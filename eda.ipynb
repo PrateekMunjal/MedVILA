{
 "cells": [
  {
   "cell_type": "code",
   "execution_count": 1,
   "metadata": {},
   "outputs": [],
   "source": [
    "import os"
   ]
  },
  {
   "cell_type": "code",
   "execution_count": null,
   "metadata": {},
   "outputs": [],
   "source": [
    "!ls /data/vision/mimic_qa/sample"
   ]
  },
  {
   "cell_type": "code",
   "execution_count": 4,
   "metadata": {},
   "outputs": [],
   "source": [
    "from datasets import load_dataset, load_from_disk\n",
    "\n",
    "ds = load_from_disk(\"/data/vision/mimic_qa/sample\")"
   ]
  },
  {
   "cell_type": "code",
   "execution_count": 5,
   "metadata": {},
   "outputs": [
    {
     "data": {
      "text/plain": [
       "Dataset({\n",
       "    features: ['image', 'text', 'report', 'qa_pairs'],\n",
       "    num_rows: 100\n",
       "})"
      ]
     },
     "execution_count": 5,
     "metadata": {},
     "output_type": "execute_result"
    }
   ],
   "source": [
    "ds"
   ]
  },
  {
   "cell_type": "code",
   "execution_count": 6,
   "metadata": {},
   "outputs": [
    {
     "data": {
      "text/plain": [
       "{'image': <PIL.JpegImagePlugin.JpegImageFile image mode=RGB size=512x512>,\n",
       " 'text': \"chest x-ray; 'Cardiomegaly'; 'Lung Opacity'\",\n",
       " 'report': 'Lung volumes are low. Retrocardiac opacity with silhouetting of the left hemidiaphragm and lateral border of the descending aorta is nonspecific and could reflect any of a combination of atelectasis, focal pneumonia or even a small effusion. Right infrahilar opacity with slight indistinctness of the right heart border could reflect infection in the appropriate clinical scenario. Apparent elevation of the right hemidiaphragm may be related to positioning and technique versus volume loss. There is cardiomegaly, but no CHF. Aortic calcifications are present. No pneumothorax.',\n",
       " 'qa_pairs': '```json\\n[\\n    {\\n        \"question\": \"What are the key findings in the lung imaging report?\",\\n        \"answer\": \"The key findings include low lung volumes, retrocardiac opacity with silhouetting of the left hemidiaphragm and lateral border of the descending aorta, right infrahilar opacity with slight indistinctness of the right heart border, apparent elevation of the right hemidiaphragm, cardiomegaly, and aortic calcifications.\"\\n    },\\n    {\\n        \"question\": \"What could the retrocardiac opacity indicate?\",\\n        \"answer\": \"The retrocardiac opacity could reflect any of a combination of atelectasis, focal pneumonia, or even a small effusion.\"\\n    },\\n    {\\n        \"question\": \"Is there any evidence of congestive heart failure (CHF) in the report?\",\\n        \"answer\": \"No, there is cardiomegaly but no evidence of congestive heart failure (CHF) in the report.\"\\n    }\\n]\\n```'}"
      ]
     },
     "execution_count": 6,
     "metadata": {},
     "output_type": "execute_result"
    }
   ],
   "source": [
    "ds[0]"
   ]
  },
  {
   "cell_type": "code",
   "execution_count": 8,
   "metadata": {},
   "outputs": [
    {
     "data": {
      "text/plain": [
       "{'image': <PIL.JpegImagePlugin.JpegImageFile image mode=RGB size=512x512>,\n",
       " 'text': \"chest x-ray; 'Pleural Other'; 'Support Devices'\",\n",
       " 'report': 'In comparison with the study of ___, the endotracheal tube remains in good position while the side port of the nasogastric tube remains above the esophagogastric junction and should be pushed forward several centimeters. Again there is upper lobe predominant emphysema with pulmonary fibrosis that predominantly affects the lower lungs. No evidence of acute focal pneumonia.',\n",
       " 'qa_pairs': '```json\\n[\\n    {\\n        \"question\": \"What is the position of the endotracheal tube according to the report?\",\\n        \"answer\": \"The endotracheal tube remains in good position.\"\\n    },\\n    {\\n        \"question\": \"What is the recommended action for the nasogastric tube based on the report?\",\\n        \"answer\": \"The side port of the nasogastric tube should be pushed forward several centimeters as it remains above the esophagogastric junction.\"\\n    },\\n    {\\n        \"question\": \"What are the key findings regarding the patient\\'s lung condition in the report?\",\\n        \"answer\": \"The report indicates upper lobe predominant emphysema with pulmonary fibrosis that predominantly affects the lower lungs, and there is no evidence of acute focal pneumonia.\"\\n    }\\n]\\n```'}"
      ]
     },
     "execution_count": 8,
     "metadata": {},
     "output_type": "execute_result"
    }
   ],
   "source": [
    "ds[12]"
   ]
  }
 ],
 "metadata": {
  "kernelspec": {
   "display_name": "Python 3 (ipykernel)",
   "language": "python",
   "name": "python3"
  },
  "language_info": {
   "codemirror_mode": {
    "name": "ipython",
    "version": 3
   },
   "file_extension": ".py",
   "mimetype": "text/x-python",
   "name": "python",
   "nbconvert_exporter": "python",
   "pygments_lexer": "ipython3",
   "version": "3.10.16"
  }
 },
 "nbformat": 4,
 "nbformat_minor": 2
}
